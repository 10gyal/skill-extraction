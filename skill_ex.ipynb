{
 "cells": [
  {
   "cell_type": "markdown",
   "metadata": {},
   "source": [
    "This notebook is for the final project of NLP (Fall 2023) - Tashi and Jungi @ SNU CSE"
   ]
  },
  {
   "cell_type": "markdown",
   "metadata": {},
   "source": [
    "# Skill Extraction from Job Posting via LLM Annotations  \n",
    "Refer to the slides for a intuitive understanding --> "
   ]
  },
  {
   "cell_type": "markdown",
   "metadata": {},
   "source": [
    "### Dependecies"
   ]
  },
  {
   "cell_type": "markdown",
   "metadata": {},
   "source": [
    "Fork prodigy-openai-recpies repo and use it as the root"
   ]
  },
  {
   "cell_type": "code",
   "execution_count": 314,
   "metadata": {},
   "outputs": [],
   "source": [
    "import pandas as pd\n",
    "import spacy\n",
    "from transformers import AutoModelForTokenClassification, AutoTokenizer\n",
    "import torch"
   ]
  },
  {
   "cell_type": "markdown",
   "metadata": {},
   "source": [
    "## Developing the Sentence Classifier"
   ]
  },
  {
   "cell_type": "code",
   "execution_count": 97,
   "metadata": {},
   "outputs": [],
   "source": [
    "df = pd.read_csv('/Users/tashi/Desktop/Fall/Thesis/src/rezi/data/allJobs.csv')"
   ]
  },
  {
   "cell_type": "code",
   "execution_count": 98,
   "metadata": {},
   "outputs": [
    {
     "data": {
      "text/html": [
       "<div>\n",
       "<style scoped>\n",
       "    .dataframe tbody tr th:only-of-type {\n",
       "        vertical-align: middle;\n",
       "    }\n",
       "\n",
       "    .dataframe tbody tr th {\n",
       "        vertical-align: top;\n",
       "    }\n",
       "\n",
       "    .dataframe thead th {\n",
       "        text-align: right;\n",
       "    }\n",
       "</style>\n",
       "<table border=\"1\" class=\"dataframe\">\n",
       "  <thead>\n",
       "    <tr style=\"text-align: right;\">\n",
       "      <th></th>\n",
       "      <th>_id</th>\n",
       "      <th>url</th>\n",
       "      <th>job_title</th>\n",
       "      <th>company_name</th>\n",
       "      <th>workplace_type</th>\n",
       "      <th>department</th>\n",
       "      <th>education_level</th>\n",
       "      <th>employment_type</th>\n",
       "      <th>max_compensation</th>\n",
       "      <th>role_requirement</th>\n",
       "      <th>...</th>\n",
       "      <th>updated_at</th>\n",
       "      <th>crawled_at</th>\n",
       "      <th>published_at</th>\n",
       "      <th>location</th>\n",
       "      <th>geo_lat</th>\n",
       "      <th>geo_lon</th>\n",
       "      <th>uid</th>\n",
       "      <th>user</th>\n",
       "      <th>country_code</th>\n",
       "      <th>work_group</th>\n",
       "    </tr>\n",
       "  </thead>\n",
       "  <tbody>\n",
       "    <tr>\n",
       "      <th>0</th>\n",
       "      <td>1uHjDYcBzdM5htbMbZyl</td>\n",
       "      <td>https://jobs.lever.co/ppwi/3444b579-5abf-46b6-...</td>\n",
       "      <td>Reproductive Healthcare Assistant</td>\n",
       "      <td>Planned Parenthood of Wisconsin, Inc.</td>\n",
       "      <td>ON-SITE</td>\n",
       "      <td>CLINICALMEDICAL</td>\n",
       "      <td>NaN</td>\n",
       "      <td>FULL TIME</td>\n",
       "      <td>NaN</td>\n",
       "      <td>Essential Duties and Responsibilities:\\nInclud...</td>\n",
       "      <td>...</td>\n",
       "      <td>NaN</td>\n",
       "      <td>2023-04-18T05:23:39+00:00</td>\n",
       "      <td>NaN</td>\n",
       "      <td>Milwaukee, Wisconsin, United States</td>\n",
       "      <td>43.038314</td>\n",
       "      <td>-87.907798</td>\n",
       "      <td>NaN</td>\n",
       "      <td>NaN</td>\n",
       "      <td>US</td>\n",
       "      <td>NaN</td>\n",
       "    </tr>\n",
       "    <tr>\n",
       "      <th>1</th>\n",
       "      <td>rzpgL4UBZiaMfNUIY5ZU</td>\n",
       "      <td>https://jobs.lever.co/viseven/186ba6c7-d790-48...</td>\n",
       "      <td>Senior Account Manager</td>\n",
       "      <td>Viseven</td>\n",
       "      <td>HYBRID</td>\n",
       "      <td>VISEVEN – EUROPE</td>\n",
       "      <td>NaN</td>\n",
       "      <td>FULL-TIME</td>\n",
       "      <td>NaN</td>\n",
       "      <td>Responsibilities:\\nOversee client and account ...</td>\n",
       "      <td>...</td>\n",
       "      <td>NaN</td>\n",
       "      <td>2023-04-18T05:23:39+00:00</td>\n",
       "      <td>NaN</td>\n",
       "      <td>Poznań, Greater Poland Voivodeship, Poland</td>\n",
       "      <td>52.400663</td>\n",
       "      <td>16.919733</td>\n",
       "      <td>NaN</td>\n",
       "      <td>NaN</td>\n",
       "      <td>PL</td>\n",
       "      <td>NaN</td>\n",
       "    </tr>\n",
       "    <tr>\n",
       "      <th>2</th>\n",
       "      <td>Ek9-D4cB8T_Z8WytG2FR</td>\n",
       "      <td>https://jobs.lever.co/airwallex/e3261dc7-ca5f-...</td>\n",
       "      <td>Director, Revenue Strategy</td>\n",
       "      <td>Airwallex</td>\n",
       "      <td>HYBRID</td>\n",
       "      <td>PLATFORM BUSINESS – REVENUE STRATEGY &amp; OPS, PL...</td>\n",
       "      <td>NaN</td>\n",
       "      <td>FULL-TIME</td>\n",
       "      <td>NaN</td>\n",
       "      <td>Drive global Monetisation strategy\\nDesign end...</td>\n",
       "      <td>...</td>\n",
       "      <td>NaN</td>\n",
       "      <td>2023-04-18T05:23:53+00:00</td>\n",
       "      <td>NaN</td>\n",
       "      <td>San Francisco, California, United States</td>\n",
       "      <td>37.779026</td>\n",
       "      <td>-122.419906</td>\n",
       "      <td>NaN</td>\n",
       "      <td>NaN</td>\n",
       "      <td>US</td>\n",
       "      <td>NaN</td>\n",
       "    </tr>\n",
       "    <tr>\n",
       "      <th>3</th>\n",
       "      <td>9U94NIUB8T_Z8Wytiz9U</td>\n",
       "      <td>https://jobs.lever.co/upstox/f186fca4-3d77-495...</td>\n",
       "      <td>Video Editor</td>\n",
       "      <td>Upstox</td>\n",
       "      <td>HYBRID</td>\n",
       "      <td>DEPARTMENT – MARKETING</td>\n",
       "      <td>NaN</td>\n",
       "      <td>FULL-TIME</td>\n",
       "      <td>NaN</td>\n",
       "      <td>NaN</td>\n",
       "      <td>...</td>\n",
       "      <td>NaN</td>\n",
       "      <td>2023-04-18T05:23:53+00:00</td>\n",
       "      <td>NaN</td>\n",
       "      <td>Mumbai, Maharashtra, India</td>\n",
       "      <td>19.078545</td>\n",
       "      <td>72.878176</td>\n",
       "      <td>NaN</td>\n",
       "      <td>NaN</td>\n",
       "      <td>IN</td>\n",
       "      <td>NaN</td>\n",
       "    </tr>\n",
       "    <tr>\n",
       "      <th>4</th>\n",
       "      <td>dU9cEIcB8T_Z8Wytj2eD</td>\n",
       "      <td>https://jobs.lever.co/accolitedigital/76f71cf6...</td>\n",
       "      <td>Sr Project Manager - (Data Center and Cloud Mi...</td>\n",
       "      <td>Accolite Digital</td>\n",
       "      <td>HYBRID</td>\n",
       "      <td>ACCOLITE – IT</td>\n",
       "      <td>NaN</td>\n",
       "      <td>CONTRACT</td>\n",
       "      <td>NaN</td>\n",
       "      <td>Responsibilities:\\nDirects large-scale, comple...</td>\n",
       "      <td>...</td>\n",
       "      <td>NaN</td>\n",
       "      <td>2023-04-18T05:23:54+00:00</td>\n",
       "      <td>NaN</td>\n",
       "      <td>Phoenix, Arizona, United States</td>\n",
       "      <td>33.448437</td>\n",
       "      <td>-112.074141</td>\n",
       "      <td>NaN</td>\n",
       "      <td>NaN</td>\n",
       "      <td>US</td>\n",
       "      <td>NaN</td>\n",
       "    </tr>\n",
       "  </tbody>\n",
       "</table>\n",
       "<p>5 rows × 28 columns</p>\n",
       "</div>"
      ],
      "text/plain": [
       "                    _id                                                url  \\\n",
       "0  1uHjDYcBzdM5htbMbZyl  https://jobs.lever.co/ppwi/3444b579-5abf-46b6-...   \n",
       "1  rzpgL4UBZiaMfNUIY5ZU  https://jobs.lever.co/viseven/186ba6c7-d790-48...   \n",
       "2  Ek9-D4cB8T_Z8WytG2FR  https://jobs.lever.co/airwallex/e3261dc7-ca5f-...   \n",
       "3  9U94NIUB8T_Z8Wytiz9U  https://jobs.lever.co/upstox/f186fca4-3d77-495...   \n",
       "4  dU9cEIcB8T_Z8Wytj2eD  https://jobs.lever.co/accolitedigital/76f71cf6...   \n",
       "\n",
       "                                           job_title  \\\n",
       "0                  Reproductive Healthcare Assistant   \n",
       "1                             Senior Account Manager   \n",
       "2                         Director, Revenue Strategy   \n",
       "3                                       Video Editor   \n",
       "4  Sr Project Manager - (Data Center and Cloud Mi...   \n",
       "\n",
       "                            company_name workplace_type  \\\n",
       "0  Planned Parenthood of Wisconsin, Inc.        ON-SITE   \n",
       "1                                Viseven         HYBRID   \n",
       "2                              Airwallex         HYBRID   \n",
       "3                                 Upstox         HYBRID   \n",
       "4                       Accolite Digital         HYBRID   \n",
       "\n",
       "                                          department education_level  \\\n",
       "0                                   CLINICALMEDICAL              NaN   \n",
       "1                                  VISEVEN – EUROPE              NaN   \n",
       "2  PLATFORM BUSINESS – REVENUE STRATEGY & OPS, PL...             NaN   \n",
       "3                            DEPARTMENT – MARKETING              NaN   \n",
       "4                                     ACCOLITE – IT              NaN   \n",
       "\n",
       "  employment_type max_compensation  \\\n",
       "0       FULL TIME              NaN   \n",
       "1       FULL-TIME              NaN   \n",
       "2       FULL-TIME              NaN   \n",
       "3       FULL-TIME              NaN   \n",
       "4        CONTRACT              NaN   \n",
       "\n",
       "                                    role_requirement  ... updated_at  \\\n",
       "0  Essential Duties and Responsibilities:\\nInclud...  ...        NaN   \n",
       "1  Responsibilities:\\nOversee client and account ...  ...        NaN   \n",
       "2  Drive global Monetisation strategy\\nDesign end...  ...        NaN   \n",
       "3                                                NaN  ...        NaN   \n",
       "4  Responsibilities:\\nDirects large-scale, comple...  ...        NaN   \n",
       "\n",
       "                  crawled_at published_at  \\\n",
       "0  2023-04-18T05:23:39+00:00          NaN   \n",
       "1  2023-04-18T05:23:39+00:00          NaN   \n",
       "2  2023-04-18T05:23:53+00:00          NaN   \n",
       "3  2023-04-18T05:23:53+00:00          NaN   \n",
       "4  2023-04-18T05:23:54+00:00          NaN   \n",
       "\n",
       "                                     location    geo_lat     geo_lon  uid  \\\n",
       "0         Milwaukee, Wisconsin, United States  43.038314  -87.907798  NaN   \n",
       "1  Poznań, Greater Poland Voivodeship, Poland  52.400663   16.919733  NaN   \n",
       "2    San Francisco, California, United States  37.779026 -122.419906  NaN   \n",
       "3                  Mumbai, Maharashtra, India  19.078545   72.878176  NaN   \n",
       "4             Phoenix, Arizona, United States  33.448437 -112.074141  NaN   \n",
       "\n",
       "  user country_code work_group  \n",
       "0  NaN           US        NaN  \n",
       "1  NaN           PL        NaN  \n",
       "2  NaN           US        NaN  \n",
       "3  NaN           IN        NaN  \n",
       "4  NaN           US        NaN  \n",
       "\n",
       "[5 rows x 28 columns]"
      ]
     },
     "execution_count": 98,
     "metadata": {},
     "output_type": "execute_result"
    }
   ],
   "source": [
    "df.head()"
   ]
  },
  {
   "cell_type": "markdown",
   "metadata": {},
   "source": [
    "Remove Duplicates and NaNs"
   ]
  },
  {
   "cell_type": "code",
   "execution_count": 99,
   "metadata": {},
   "outputs": [],
   "source": [
    "df = df.drop_duplicates(subset=['role_requirement'], keep='first')\n",
    "df.dropna(subset=['role_requirement'], inplace=True)\n",
    "df = df.reset_index(drop=True)"
   ]
  },
  {
   "cell_type": "code",
   "execution_count": 100,
   "metadata": {},
   "outputs": [
    {
     "data": {
      "text/html": [
       "<div>\n",
       "<style scoped>\n",
       "    .dataframe tbody tr th:only-of-type {\n",
       "        vertical-align: middle;\n",
       "    }\n",
       "\n",
       "    .dataframe tbody tr th {\n",
       "        vertical-align: top;\n",
       "    }\n",
       "\n",
       "    .dataframe thead th {\n",
       "        text-align: right;\n",
       "    }\n",
       "</style>\n",
       "<table border=\"1\" class=\"dataframe\">\n",
       "  <thead>\n",
       "    <tr style=\"text-align: right;\">\n",
       "      <th></th>\n",
       "      <th>_id</th>\n",
       "      <th>url</th>\n",
       "      <th>job_title</th>\n",
       "      <th>company_name</th>\n",
       "      <th>workplace_type</th>\n",
       "      <th>department</th>\n",
       "      <th>education_level</th>\n",
       "      <th>employment_type</th>\n",
       "      <th>max_compensation</th>\n",
       "      <th>role_requirement</th>\n",
       "      <th>...</th>\n",
       "      <th>updated_at</th>\n",
       "      <th>crawled_at</th>\n",
       "      <th>published_at</th>\n",
       "      <th>location</th>\n",
       "      <th>geo_lat</th>\n",
       "      <th>geo_lon</th>\n",
       "      <th>uid</th>\n",
       "      <th>user</th>\n",
       "      <th>country_code</th>\n",
       "      <th>work_group</th>\n",
       "    </tr>\n",
       "  </thead>\n",
       "  <tbody>\n",
       "    <tr>\n",
       "      <th>0</th>\n",
       "      <td>1uHjDYcBzdM5htbMbZyl</td>\n",
       "      <td>https://jobs.lever.co/ppwi/3444b579-5abf-46b6-...</td>\n",
       "      <td>Reproductive Healthcare Assistant</td>\n",
       "      <td>Planned Parenthood of Wisconsin, Inc.</td>\n",
       "      <td>ON-SITE</td>\n",
       "      <td>CLINICALMEDICAL</td>\n",
       "      <td>NaN</td>\n",
       "      <td>FULL TIME</td>\n",
       "      <td>NaN</td>\n",
       "      <td>Essential Duties and Responsibilities:\\nInclud...</td>\n",
       "      <td>...</td>\n",
       "      <td>NaN</td>\n",
       "      <td>2023-04-18T05:23:39+00:00</td>\n",
       "      <td>NaN</td>\n",
       "      <td>Milwaukee, Wisconsin, United States</td>\n",
       "      <td>43.038314</td>\n",
       "      <td>-87.907798</td>\n",
       "      <td>NaN</td>\n",
       "      <td>NaN</td>\n",
       "      <td>US</td>\n",
       "      <td>NaN</td>\n",
       "    </tr>\n",
       "    <tr>\n",
       "      <th>1</th>\n",
       "      <td>rzpgL4UBZiaMfNUIY5ZU</td>\n",
       "      <td>https://jobs.lever.co/viseven/186ba6c7-d790-48...</td>\n",
       "      <td>Senior Account Manager</td>\n",
       "      <td>Viseven</td>\n",
       "      <td>HYBRID</td>\n",
       "      <td>VISEVEN – EUROPE</td>\n",
       "      <td>NaN</td>\n",
       "      <td>FULL-TIME</td>\n",
       "      <td>NaN</td>\n",
       "      <td>Responsibilities:\\nOversee client and account ...</td>\n",
       "      <td>...</td>\n",
       "      <td>NaN</td>\n",
       "      <td>2023-04-18T05:23:39+00:00</td>\n",
       "      <td>NaN</td>\n",
       "      <td>Poznań, Greater Poland Voivodeship, Poland</td>\n",
       "      <td>52.400663</td>\n",
       "      <td>16.919733</td>\n",
       "      <td>NaN</td>\n",
       "      <td>NaN</td>\n",
       "      <td>PL</td>\n",
       "      <td>NaN</td>\n",
       "    </tr>\n",
       "    <tr>\n",
       "      <th>2</th>\n",
       "      <td>Ek9-D4cB8T_Z8WytG2FR</td>\n",
       "      <td>https://jobs.lever.co/airwallex/e3261dc7-ca5f-...</td>\n",
       "      <td>Director, Revenue Strategy</td>\n",
       "      <td>Airwallex</td>\n",
       "      <td>HYBRID</td>\n",
       "      <td>PLATFORM BUSINESS – REVENUE STRATEGY &amp; OPS, PL...</td>\n",
       "      <td>NaN</td>\n",
       "      <td>FULL-TIME</td>\n",
       "      <td>NaN</td>\n",
       "      <td>Drive global Monetisation strategy\\nDesign end...</td>\n",
       "      <td>...</td>\n",
       "      <td>NaN</td>\n",
       "      <td>2023-04-18T05:23:53+00:00</td>\n",
       "      <td>NaN</td>\n",
       "      <td>San Francisco, California, United States</td>\n",
       "      <td>37.779026</td>\n",
       "      <td>-122.419906</td>\n",
       "      <td>NaN</td>\n",
       "      <td>NaN</td>\n",
       "      <td>US</td>\n",
       "      <td>NaN</td>\n",
       "    </tr>\n",
       "    <tr>\n",
       "      <th>3</th>\n",
       "      <td>dU9cEIcB8T_Z8Wytj2eD</td>\n",
       "      <td>https://jobs.lever.co/accolitedigital/76f71cf6...</td>\n",
       "      <td>Sr Project Manager - (Data Center and Cloud Mi...</td>\n",
       "      <td>Accolite Digital</td>\n",
       "      <td>HYBRID</td>\n",
       "      <td>ACCOLITE – IT</td>\n",
       "      <td>NaN</td>\n",
       "      <td>CONTRACT</td>\n",
       "      <td>NaN</td>\n",
       "      <td>Responsibilities:\\nDirects large-scale, comple...</td>\n",
       "      <td>...</td>\n",
       "      <td>NaN</td>\n",
       "      <td>2023-04-18T05:23:54+00:00</td>\n",
       "      <td>NaN</td>\n",
       "      <td>Phoenix, Arizona, United States</td>\n",
       "      <td>33.448437</td>\n",
       "      <td>-112.074141</td>\n",
       "      <td>NaN</td>\n",
       "      <td>NaN</td>\n",
       "      <td>US</td>\n",
       "      <td>NaN</td>\n",
       "    </tr>\n",
       "    <tr>\n",
       "      <th>4</th>\n",
       "      <td>p-GmEIcBzdM5htbMf7AX</td>\n",
       "      <td>https://jobs.lever.co/varicent/0469919c-02c1-4...</td>\n",
       "      <td>Business Development Representative - Remote</td>\n",
       "      <td>Varicent</td>\n",
       "      <td>REMOTE</td>\n",
       "      <td>SALES</td>\n",
       "      <td>NaN</td>\n",
       "      <td>FULL TIME</td>\n",
       "      <td>NaN</td>\n",
       "      <td>What you will do:\\nYou will engage C-level dec...</td>\n",
       "      <td>...</td>\n",
       "      <td>NaN</td>\n",
       "      <td>2023-04-18T05:24:00+00:00</td>\n",
       "      <td>NaN</td>\n",
       "      <td>Chicago, Illinois, United States</td>\n",
       "      <td>41.875562</td>\n",
       "      <td>-87.624421</td>\n",
       "      <td>NaN</td>\n",
       "      <td>NaN</td>\n",
       "      <td>US</td>\n",
       "      <td>NaN</td>\n",
       "    </tr>\n",
       "  </tbody>\n",
       "</table>\n",
       "<p>5 rows × 28 columns</p>\n",
       "</div>"
      ],
      "text/plain": [
       "                    _id                                                url  \\\n",
       "0  1uHjDYcBzdM5htbMbZyl  https://jobs.lever.co/ppwi/3444b579-5abf-46b6-...   \n",
       "1  rzpgL4UBZiaMfNUIY5ZU  https://jobs.lever.co/viseven/186ba6c7-d790-48...   \n",
       "2  Ek9-D4cB8T_Z8WytG2FR  https://jobs.lever.co/airwallex/e3261dc7-ca5f-...   \n",
       "3  dU9cEIcB8T_Z8Wytj2eD  https://jobs.lever.co/accolitedigital/76f71cf6...   \n",
       "4  p-GmEIcBzdM5htbMf7AX  https://jobs.lever.co/varicent/0469919c-02c1-4...   \n",
       "\n",
       "                                           job_title  \\\n",
       "0                  Reproductive Healthcare Assistant   \n",
       "1                             Senior Account Manager   \n",
       "2                         Director, Revenue Strategy   \n",
       "3  Sr Project Manager - (Data Center and Cloud Mi...   \n",
       "4       Business Development Representative - Remote   \n",
       "\n",
       "                            company_name workplace_type  \\\n",
       "0  Planned Parenthood of Wisconsin, Inc.        ON-SITE   \n",
       "1                                Viseven         HYBRID   \n",
       "2                              Airwallex         HYBRID   \n",
       "3                       Accolite Digital         HYBRID   \n",
       "4                               Varicent         REMOTE   \n",
       "\n",
       "                                          department education_level  \\\n",
       "0                                   CLINICALMEDICAL              NaN   \n",
       "1                                  VISEVEN – EUROPE              NaN   \n",
       "2  PLATFORM BUSINESS – REVENUE STRATEGY & OPS, PL...             NaN   \n",
       "3                                     ACCOLITE – IT              NaN   \n",
       "4                                             SALES              NaN   \n",
       "\n",
       "  employment_type max_compensation  \\\n",
       "0       FULL TIME              NaN   \n",
       "1       FULL-TIME              NaN   \n",
       "2       FULL-TIME              NaN   \n",
       "3        CONTRACT              NaN   \n",
       "4       FULL TIME              NaN   \n",
       "\n",
       "                                    role_requirement  ... updated_at  \\\n",
       "0  Essential Duties and Responsibilities:\\nInclud...  ...        NaN   \n",
       "1  Responsibilities:\\nOversee client and account ...  ...        NaN   \n",
       "2  Drive global Monetisation strategy\\nDesign end...  ...        NaN   \n",
       "3  Responsibilities:\\nDirects large-scale, comple...  ...        NaN   \n",
       "4  What you will do:\\nYou will engage C-level dec...  ...        NaN   \n",
       "\n",
       "                  crawled_at published_at  \\\n",
       "0  2023-04-18T05:23:39+00:00          NaN   \n",
       "1  2023-04-18T05:23:39+00:00          NaN   \n",
       "2  2023-04-18T05:23:53+00:00          NaN   \n",
       "3  2023-04-18T05:23:54+00:00          NaN   \n",
       "4  2023-04-18T05:24:00+00:00          NaN   \n",
       "\n",
       "                                     location    geo_lat     geo_lon  uid  \\\n",
       "0         Milwaukee, Wisconsin, United States  43.038314  -87.907798  NaN   \n",
       "1  Poznań, Greater Poland Voivodeship, Poland  52.400663   16.919733  NaN   \n",
       "2    San Francisco, California, United States  37.779026 -122.419906  NaN   \n",
       "3             Phoenix, Arizona, United States  33.448437 -112.074141  NaN   \n",
       "4            Chicago, Illinois, United States  41.875562  -87.624421  NaN   \n",
       "\n",
       "  user country_code work_group  \n",
       "0  NaN           US        NaN  \n",
       "1  NaN           PL        NaN  \n",
       "2  NaN           US        NaN  \n",
       "3  NaN           US        NaN  \n",
       "4  NaN           US        NaN  \n",
       "\n",
       "[5 rows x 28 columns]"
      ]
     },
     "execution_count": 100,
     "metadata": {},
     "output_type": "execute_result"
    }
   ],
   "source": [
    "df.head()"
   ]
  },
  {
   "cell_type": "code",
   "execution_count": 101,
   "metadata": {},
   "outputs": [],
   "source": [
    "df = df[['job_title', 'role_requirement']]\n",
    "df.rename(columns={'role_requirement': 'text'}, inplace=True)"
   ]
  },
  {
   "cell_type": "code",
   "execution_count": 102,
   "metadata": {},
   "outputs": [
    {
     "data": {
      "text/html": [
       "<div>\n",
       "<style scoped>\n",
       "    .dataframe tbody tr th:only-of-type {\n",
       "        vertical-align: middle;\n",
       "    }\n",
       "\n",
       "    .dataframe tbody tr th {\n",
       "        vertical-align: top;\n",
       "    }\n",
       "\n",
       "    .dataframe thead th {\n",
       "        text-align: right;\n",
       "    }\n",
       "</style>\n",
       "<table border=\"1\" class=\"dataframe\">\n",
       "  <thead>\n",
       "    <tr style=\"text-align: right;\">\n",
       "      <th></th>\n",
       "      <th>job_title</th>\n",
       "      <th>text</th>\n",
       "    </tr>\n",
       "  </thead>\n",
       "  <tbody>\n",
       "    <tr>\n",
       "      <th>0</th>\n",
       "      <td>Reproductive Healthcare Assistant</td>\n",
       "      <td>Essential Duties and Responsibilities:\\nInclud...</td>\n",
       "    </tr>\n",
       "    <tr>\n",
       "      <th>1</th>\n",
       "      <td>Senior Account Manager</td>\n",
       "      <td>Responsibilities:\\nOversee client and account ...</td>\n",
       "    </tr>\n",
       "    <tr>\n",
       "      <th>2</th>\n",
       "      <td>Director, Revenue Strategy</td>\n",
       "      <td>Drive global Monetisation strategy\\nDesign end...</td>\n",
       "    </tr>\n",
       "    <tr>\n",
       "      <th>3</th>\n",
       "      <td>Sr Project Manager - (Data Center and Cloud Mi...</td>\n",
       "      <td>Responsibilities:\\nDirects large-scale, comple...</td>\n",
       "    </tr>\n",
       "    <tr>\n",
       "      <th>4</th>\n",
       "      <td>Business Development Representative - Remote</td>\n",
       "      <td>What you will do:\\nYou will engage C-level dec...</td>\n",
       "    </tr>\n",
       "  </tbody>\n",
       "</table>\n",
       "</div>"
      ],
      "text/plain": [
       "                                           job_title  \\\n",
       "0                  Reproductive Healthcare Assistant   \n",
       "1                             Senior Account Manager   \n",
       "2                         Director, Revenue Strategy   \n",
       "3  Sr Project Manager - (Data Center and Cloud Mi...   \n",
       "4       Business Development Representative - Remote   \n",
       "\n",
       "                                                text  \n",
       "0  Essential Duties and Responsibilities:\\nInclud...  \n",
       "1  Responsibilities:\\nOversee client and account ...  \n",
       "2  Drive global Monetisation strategy\\nDesign end...  \n",
       "3  Responsibilities:\\nDirects large-scale, comple...  \n",
       "4  What you will do:\\nYou will engage C-level dec...  "
      ]
     },
     "execution_count": 102,
     "metadata": {},
     "output_type": "execute_result"
    }
   ],
   "source": [
    "df.head()"
   ]
  },
  {
   "cell_type": "markdown",
   "metadata": {},
   "source": [
    "Randomly choose 200 jobs for sentnece labelling"
   ]
  },
  {
   "cell_type": "code",
   "execution_count": 103,
   "metadata": {},
   "outputs": [],
   "source": [
    "sample_df = df.sample(n=200, random_state=42)"
   ]
  },
  {
   "cell_type": "code",
   "execution_count": 104,
   "metadata": {},
   "outputs": [
    {
     "data": {
      "text/html": [
       "<div>\n",
       "<style scoped>\n",
       "    .dataframe tbody tr th:only-of-type {\n",
       "        vertical-align: middle;\n",
       "    }\n",
       "\n",
       "    .dataframe tbody tr th {\n",
       "        vertical-align: top;\n",
       "    }\n",
       "\n",
       "    .dataframe thead th {\n",
       "        text-align: right;\n",
       "    }\n",
       "</style>\n",
       "<table border=\"1\" class=\"dataframe\">\n",
       "  <thead>\n",
       "    <tr style=\"text-align: right;\">\n",
       "      <th></th>\n",
       "      <th>job_title</th>\n",
       "      <th>text</th>\n",
       "    </tr>\n",
       "  </thead>\n",
       "  <tbody>\n",
       "    <tr>\n",
       "      <th>3355</th>\n",
       "      <td>-Enterprise Account Executive</td>\n",
       "      <td>What you will do\\nDevelop an Enterprise Accoun...</td>\n",
       "    </tr>\n",
       "    <tr>\n",
       "      <th>2405</th>\n",
       "      <td>Distribution Center (DC) Supervisor, 2nd Shift</td>\n",
       "      <td>Responsibilities\\nSupervise and assist in dail...</td>\n",
       "    </tr>\n",
       "    <tr>\n",
       "      <th>4373</th>\n",
       "      <td>Technical Project Manager, Noida</td>\n",
       "      <td>Skills &amp; Knowledge\\nStrong Project Management ...</td>\n",
       "    </tr>\n",
       "    <tr>\n",
       "      <th>107</th>\n",
       "      <td>Retail Category Leaders - Electronics Category</td>\n",
       "      <td>Your Main Responsibilities\\nDeveloping busines...</td>\n",
       "    </tr>\n",
       "    <tr>\n",
       "      <th>9391</th>\n",
       "      <td>Senior Engine Programmer - Network</td>\n",
       "      <td>Responsibilities\\nTake ownership, develop and ...</td>\n",
       "    </tr>\n",
       "    <tr>\n",
       "      <th>...</th>\n",
       "      <td>...</td>\n",
       "      <td>...</td>\n",
       "    </tr>\n",
       "    <tr>\n",
       "      <th>259</th>\n",
       "      <td>Fleet Advisor - Austin</td>\n",
       "      <td>Outcomes\\nMachine listings - We’re moving iron...</td>\n",
       "    </tr>\n",
       "    <tr>\n",
       "      <th>6429</th>\n",
       "      <td>Manufacturing Engineer</td>\n",
       "      <td>What You'll Do:\\nImplement a custom Manufactur...</td>\n",
       "    </tr>\n",
       "    <tr>\n",
       "      <th>5406</th>\n",
       "      <td>Commercial Executive – Licensing</td>\n",
       "      <td>WHAT YOU'LL BRING\\nBachelor's degree in busine...</td>\n",
       "    </tr>\n",
       "    <tr>\n",
       "      <th>1575</th>\n",
       "      <td>Enterprise Solutions Engineer - Greater DC Area</td>\n",
       "      <td>Responsibilities\\nBe the subject matter author...</td>\n",
       "    </tr>\n",
       "    <tr>\n",
       "      <th>80</th>\n",
       "      <td>Environment Modeler Senior</td>\n",
       "      <td>Responsibilities\\nModeling from concepts follo...</td>\n",
       "    </tr>\n",
       "  </tbody>\n",
       "</table>\n",
       "<p>200 rows × 2 columns</p>\n",
       "</div>"
      ],
      "text/plain": [
       "                                            job_title  \\\n",
       "3355                    -Enterprise Account Executive   \n",
       "2405   Distribution Center (DC) Supervisor, 2nd Shift   \n",
       "4373                 Technical Project Manager, Noida   \n",
       "107    Retail Category Leaders - Electronics Category   \n",
       "9391               Senior Engine Programmer - Network   \n",
       "...                                               ...   \n",
       "259                            Fleet Advisor - Austin   \n",
       "6429                           Manufacturing Engineer   \n",
       "5406                 Commercial Executive – Licensing   \n",
       "1575  Enterprise Solutions Engineer - Greater DC Area   \n",
       "80                         Environment Modeler Senior   \n",
       "\n",
       "                                                   text  \n",
       "3355  What you will do\\nDevelop an Enterprise Accoun...  \n",
       "2405  Responsibilities\\nSupervise and assist in dail...  \n",
       "4373  Skills & Knowledge\\nStrong Project Management ...  \n",
       "107   Your Main Responsibilities\\nDeveloping busines...  \n",
       "9391  Responsibilities\\nTake ownership, develop and ...  \n",
       "...                                                 ...  \n",
       "259   Outcomes\\nMachine listings - We’re moving iron...  \n",
       "6429  What You'll Do:\\nImplement a custom Manufactur...  \n",
       "5406  WHAT YOU'LL BRING\\nBachelor's degree in busine...  \n",
       "1575  Responsibilities\\nBe the subject matter author...  \n",
       "80    Responsibilities\\nModeling from concepts follo...  \n",
       "\n",
       "[200 rows x 2 columns]"
      ]
     },
     "execution_count": 104,
     "metadata": {},
     "output_type": "execute_result"
    }
   ],
   "source": [
    "sample_df"
   ]
  },
  {
   "cell_type": "markdown",
   "metadata": {},
   "source": [
    "Split the job postings by \"\\n\" to prepare for GPT to label the sentences"
   ]
  },
  {
   "cell_type": "code",
   "execution_count": 105,
   "metadata": {},
   "outputs": [],
   "source": [
    "sample_df['text'] = sample_df['text'].str.split(r'\\n')  # Splitting by \\n\n",
    "exploded_df = sample_df.explode('text')\n",
    "# Remove any trailing periods and whitespace\n",
    "exploded_df['text'] = exploded_df['text'].str.strip('.').str.strip()"
   ]
  },
  {
   "cell_type": "code",
   "execution_count": 106,
   "metadata": {},
   "outputs": [
    {
     "data": {
      "text/html": [
       "<div>\n",
       "<style scoped>\n",
       "    .dataframe tbody tr th:only-of-type {\n",
       "        vertical-align: middle;\n",
       "    }\n",
       "\n",
       "    .dataframe tbody tr th {\n",
       "        vertical-align: top;\n",
       "    }\n",
       "\n",
       "    .dataframe thead th {\n",
       "        text-align: right;\n",
       "    }\n",
       "</style>\n",
       "<table border=\"1\" class=\"dataframe\">\n",
       "  <thead>\n",
       "    <tr style=\"text-align: right;\">\n",
       "      <th></th>\n",
       "      <th>job_title</th>\n",
       "      <th>text</th>\n",
       "    </tr>\n",
       "  </thead>\n",
       "  <tbody>\n",
       "    <tr>\n",
       "      <th>3355</th>\n",
       "      <td>-Enterprise Account Executive</td>\n",
       "      <td>What you will do</td>\n",
       "    </tr>\n",
       "    <tr>\n",
       "      <th>3355</th>\n",
       "      <td>-Enterprise Account Executive</td>\n",
       "      <td>Develop an Enterprise Account Plan for strateg...</td>\n",
       "    </tr>\n",
       "    <tr>\n",
       "      <th>3355</th>\n",
       "      <td>-Enterprise Account Executive</td>\n",
       "      <td>Accurately forecast sales revenue and pipeline...</td>\n",
       "    </tr>\n",
       "    <tr>\n",
       "      <th>3355</th>\n",
       "      <td>-Enterprise Account Executive</td>\n",
       "      <td>Engage with Fortune 1000 accounts across a var...</td>\n",
       "    </tr>\n",
       "    <tr>\n",
       "      <th>3355</th>\n",
       "      <td>-Enterprise Account Executive</td>\n",
       "      <td>Attend relevant trade shows when required</td>\n",
       "    </tr>\n",
       "    <tr>\n",
       "      <th>...</th>\n",
       "      <td>...</td>\n",
       "      <td>...</td>\n",
       "    </tr>\n",
       "    <tr>\n",
       "      <th>80</th>\n",
       "      <td>Environment Modeler Senior</td>\n",
       "      <td>Extensive experience with SpeedTree</td>\n",
       "    </tr>\n",
       "    <tr>\n",
       "      <th>80</th>\n",
       "      <td>Environment Modeler Senior</td>\n",
       "      <td>Extensive experience with Arnold render</td>\n",
       "    </tr>\n",
       "    <tr>\n",
       "      <th>80</th>\n",
       "      <td>Environment Modeler Senior</td>\n",
       "      <td>Experience with Houdini is a plus</td>\n",
       "    </tr>\n",
       "    <tr>\n",
       "      <th>80</th>\n",
       "      <td>Environment Modeler Senior</td>\n",
       "      <td>Experience with traditional drawing, and/or pa...</td>\n",
       "    </tr>\n",
       "    <tr>\n",
       "      <th>80</th>\n",
       "      <td>Environment Modeler Senior</td>\n",
       "      <td>Strong English language proficiency</td>\n",
       "    </tr>\n",
       "  </tbody>\n",
       "</table>\n",
       "<p>4129 rows × 2 columns</p>\n",
       "</div>"
      ],
      "text/plain": [
       "                          job_title  \\\n",
       "3355  -Enterprise Account Executive   \n",
       "3355  -Enterprise Account Executive   \n",
       "3355  -Enterprise Account Executive   \n",
       "3355  -Enterprise Account Executive   \n",
       "3355  -Enterprise Account Executive   \n",
       "...                             ...   \n",
       "80       Environment Modeler Senior   \n",
       "80       Environment Modeler Senior   \n",
       "80       Environment Modeler Senior   \n",
       "80       Environment Modeler Senior   \n",
       "80       Environment Modeler Senior   \n",
       "\n",
       "                                                   text  \n",
       "3355                                   What you will do  \n",
       "3355  Develop an Enterprise Account Plan for strateg...  \n",
       "3355  Accurately forecast sales revenue and pipeline...  \n",
       "3355  Engage with Fortune 1000 accounts across a var...  \n",
       "3355          Attend relevant trade shows when required  \n",
       "...                                                 ...  \n",
       "80                  Extensive experience with SpeedTree  \n",
       "80              Extensive experience with Arnold render  \n",
       "80                    Experience with Houdini is a plus  \n",
       "80    Experience with traditional drawing, and/or pa...  \n",
       "80                  Strong English language proficiency  \n",
       "\n",
       "[4129 rows x 2 columns]"
      ]
     },
     "execution_count": 106,
     "metadata": {},
     "output_type": "execute_result"
    }
   ],
   "source": [
    "exploded_df"
   ]
  },
  {
   "cell_type": "code",
   "execution_count": 107,
   "metadata": {},
   "outputs": [],
   "source": [
    "exploded_df.to_json('/Users/tashi/Desktop/Fall/Thesis/src/nlp/data/sentence_level/split_sents.jsonl', orient='records', lines=True)"
   ]
  },
  {
   "cell_type": "markdown",
   "metadata": {},
   "source": [
    "**Here we use spacy and prodigy from Explosion.ai repo https://github.com/explosion/prodigy-openai-recipes to label each sentence using GPT**"
   ]
  },
  {
   "cell_type": "markdown",
   "metadata": {},
   "source": [
    "the --labels argument is defined in ./prodigy-openai-recipes/templates/textcat_prompt.jinja2"
   ]
  },
  {
   "cell_type": "code",
   "execution_count": 108,
   "metadata": {},
   "outputs": [
    {
     "name": "stdout",
     "output_type": "stream",
     "text": [
      "4129it [09:59,  6.89it/s]\n"
     ]
    }
   ],
   "source": [
    "!python3 -m prodigy textcat.openai.fetch ../data/sentence_level/split_sents.jsonl ../data/sentence_level/sents_predictions.jsonl --e --labels section_title,company_info,skills,miscellaneous -F ./recipes/openai_textcat.py"
   ]
  },
  {
   "cell_type": "markdown",
   "metadata": {},
   "source": [
    "GPT labeled sentences are saved to ./data/sentence_level/sent_cls_predictions.jsonl"
   ]
  },
  {
   "cell_type": "markdown",
   "metadata": {},
   "source": [
    "**For GPU compute power, we train/finetune bert using this acquired labels in this colab notebook:**    \n",
    "https://colab.research.google.com/drive/13HwU4A-Ir5pnRPSrUxqSO2P7D87oJ6Nl#scrollTo=OjAX-Q7CMv8Z"
   ]
  },
  {
   "cell_type": "markdown",
   "metadata": {},
   "source": [
    "**Sentence Classifer is saved to ../nlp/models/sent_cls**"
   ]
  },
  {
   "cell_type": "markdown",
   "metadata": {},
   "source": [
    "## Developing the NER Model"
   ]
  },
  {
   "cell_type": "code",
   "execution_count": 111,
   "metadata": {},
   "outputs": [],
   "source": [
    "df2 = pd.read_json('/Users/tashi/Desktop/Fall/Thesis/src/nlp/data/sentence_level/sents_predictions.jsonl', lines=True)"
   ]
  },
  {
   "cell_type": "code",
   "execution_count": 112,
   "metadata": {},
   "outputs": [],
   "source": [
    "df2['accept'] = df2['accept'].apply(lambda x: x[0])"
   ]
  },
  {
   "cell_type": "code",
   "execution_count": 113,
   "metadata": {},
   "outputs": [],
   "source": [
    "df2 = df2[['text', 'accept']]"
   ]
  },
  {
   "cell_type": "code",
   "execution_count": 120,
   "metadata": {},
   "outputs": [
    {
     "data": {
      "text/html": [
       "<div>\n",
       "<style scoped>\n",
       "    .dataframe tbody tr th:only-of-type {\n",
       "        vertical-align: middle;\n",
       "    }\n",
       "\n",
       "    .dataframe tbody tr th {\n",
       "        vertical-align: top;\n",
       "    }\n",
       "\n",
       "    .dataframe thead th {\n",
       "        text-align: right;\n",
       "    }\n",
       "</style>\n",
       "<table border=\"1\" class=\"dataframe\">\n",
       "  <thead>\n",
       "    <tr style=\"text-align: right;\">\n",
       "      <th></th>\n",
       "      <th>text</th>\n",
       "      <th>accept</th>\n",
       "    </tr>\n",
       "  </thead>\n",
       "  <tbody>\n",
       "    <tr>\n",
       "      <th>0</th>\n",
       "      <td>What you will do</td>\n",
       "      <td>section_title</td>\n",
       "    </tr>\n",
       "    <tr>\n",
       "      <th>1</th>\n",
       "      <td>Develop an Enterprise Account Plan for strateg...</td>\n",
       "      <td>skills</td>\n",
       "    </tr>\n",
       "    <tr>\n",
       "      <th>2</th>\n",
       "      <td>Accurately forecast sales revenue and pipeline...</td>\n",
       "      <td>miscellaneous</td>\n",
       "    </tr>\n",
       "    <tr>\n",
       "      <th>3</th>\n",
       "      <td>Engage with Fortune 1000 accounts across a var...</td>\n",
       "      <td>company_info</td>\n",
       "    </tr>\n",
       "    <tr>\n",
       "      <th>4</th>\n",
       "      <td>Attend relevant trade shows when required</td>\n",
       "      <td>miscellaneous</td>\n",
       "    </tr>\n",
       "  </tbody>\n",
       "</table>\n",
       "</div>"
      ],
      "text/plain": [
       "                                                text         accept\n",
       "0                                   What you will do  section_title\n",
       "1  Develop an Enterprise Account Plan for strateg...         skills\n",
       "2  Accurately forecast sales revenue and pipeline...  miscellaneous\n",
       "3  Engage with Fortune 1000 accounts across a var...   company_info\n",
       "4          Attend relevant trade shows when required  miscellaneous"
      ]
     },
     "execution_count": 120,
     "metadata": {},
     "output_type": "execute_result"
    }
   ],
   "source": [
    "df2.head()"
   ]
  },
  {
   "cell_type": "markdown",
   "metadata": {},
   "source": [
    "Keep only the sentences labelled as skills"
   ]
  },
  {
   "cell_type": "code",
   "execution_count": 116,
   "metadata": {},
   "outputs": [],
   "source": [
    "fitlered_df2 = df2[df2['accept'] == 'skills']"
   ]
  },
  {
   "cell_type": "code",
   "execution_count": 122,
   "metadata": {},
   "outputs": [
    {
     "name": "stdout",
     "output_type": "stream",
     "text": [
      "(2723, 2)\n"
     ]
    },
    {
     "data": {
      "text/html": [
       "<div>\n",
       "<style scoped>\n",
       "    .dataframe tbody tr th:only-of-type {\n",
       "        vertical-align: middle;\n",
       "    }\n",
       "\n",
       "    .dataframe tbody tr th {\n",
       "        vertical-align: top;\n",
       "    }\n",
       "\n",
       "    .dataframe thead th {\n",
       "        text-align: right;\n",
       "    }\n",
       "</style>\n",
       "<table border=\"1\" class=\"dataframe\">\n",
       "  <thead>\n",
       "    <tr style=\"text-align: right;\">\n",
       "      <th></th>\n",
       "      <th>text</th>\n",
       "      <th>accept</th>\n",
       "    </tr>\n",
       "  </thead>\n",
       "  <tbody>\n",
       "    <tr>\n",
       "      <th>1</th>\n",
       "      <td>Develop an Enterprise Account Plan for strateg...</td>\n",
       "      <td>skills</td>\n",
       "    </tr>\n",
       "    <tr>\n",
       "      <th>5</th>\n",
       "      <td>Manage the entire sales process from prospect ...</td>\n",
       "      <td>skills</td>\n",
       "    </tr>\n",
       "    <tr>\n",
       "      <th>8</th>\n",
       "      <td>Maintain Salesforce.com CRM and ensure a stron...</td>\n",
       "      <td>skills</td>\n",
       "    </tr>\n",
       "    <tr>\n",
       "      <th>9</th>\n",
       "      <td>5+ years of SaaS enterprise sales experience</td>\n",
       "      <td>skills</td>\n",
       "    </tr>\n",
       "    <tr>\n",
       "      <th>10</th>\n",
       "      <td>Expertise in managing multi-stakeholder sales ...</td>\n",
       "      <td>skills</td>\n",
       "    </tr>\n",
       "  </tbody>\n",
       "</table>\n",
       "</div>"
      ],
      "text/plain": [
       "                                                 text  accept\n",
       "1   Develop an Enterprise Account Plan for strateg...  skills\n",
       "5   Manage the entire sales process from prospect ...  skills\n",
       "8   Maintain Salesforce.com CRM and ensure a stron...  skills\n",
       "9        5+ years of SaaS enterprise sales experience  skills\n",
       "10  Expertise in managing multi-stakeholder sales ...  skills"
      ]
     },
     "execution_count": 122,
     "metadata": {},
     "output_type": "execute_result"
    }
   ],
   "source": [
    "print(fitlered_df2.shape)\n",
    "fitlered_df2.head()"
   ]
  },
  {
   "cell_type": "code",
   "execution_count": 123,
   "metadata": {},
   "outputs": [],
   "source": [
    "fitlered_df2.to_json('/Users/tashi/Desktop/Fall/Thesis/src/nlp/data/token_level/skills_sents.jsonl', orient='records', lines=True)"
   ]
  },
  {
   "cell_type": "markdown",
   "metadata": {},
   "source": [
    "Again we turn to spacy and prodigy to help us label the hard and soft skills from each sentence marked as \"skills\""
   ]
  },
  {
   "cell_type": "code",
   "execution_count": 124,
   "metadata": {},
   "outputs": [
    {
     "name": "stdout",
     "output_type": "stream",
     "text": [
      "100%|███████████████████████████████████████| 2723/2723 [05:55<00:00,  7.65it/s]\n"
     ]
    }
   ],
   "source": [
    "!python3 -m prodigy ner.openai.fetch /Users/tashi/Desktop/Fall/Thesis/src/nlp/data/token_level/skills_sents.jsonl /Users/tashi/Desktop/Fall/Thesis/src/nlp/data/token_level/ner_predictions.jsonl \"hard_skill,soft_skill\" -F ./recipes/openai_ner.py"
   ]
  },
  {
   "cell_type": "markdown",
   "metadata": {},
   "source": [
    "We import the .jsonl file containing predictions into prodigy's db for easy manipulation"
   ]
  },
  {
   "cell_type": "code",
   "execution_count": 125,
   "metadata": {},
   "outputs": [
    {
     "name": "stdout",
     "output_type": "stream",
     "text": [
      "\u001b[38;5;2m✔ Created dataset 'ner_preds' in database SQLite\u001b[0m\n",
      "\u001b[38;5;2m✔ Imported 2723 annotated examples and saved them to 'ner_preds'\n",
      "(session 2023-12-13_16-27-17) in database SQLite\u001b[0m\n",
      "Found and keeping existing \"answer\" in 0 examples\n"
     ]
    }
   ],
   "source": [
    "!python3 -m prodigy db-in ner_preds /Users/tashi/Desktop/Fall/Thesis/src/nlp/data/token_level/ner_predictions.jsonl         "
   ]
  },
  {
   "cell_type": "markdown",
   "metadata": {},
   "source": [
    "Load the labelled dataset"
   ]
  },
  {
   "cell_type": "code",
   "execution_count": 127,
   "metadata": {},
   "outputs": [],
   "source": [
    "ner_df = pd.read_json(\"/Users/tashi/Desktop/Fall/Thesis/src/nlp/data/token_level/ner_predictions.jsonl\", lines=True)"
   ]
  },
  {
   "cell_type": "code",
   "execution_count": 128,
   "metadata": {},
   "outputs": [
    {
     "data": {
      "text/html": [
       "<div>\n",
       "<style scoped>\n",
       "    .dataframe tbody tr th:only-of-type {\n",
       "        vertical-align: middle;\n",
       "    }\n",
       "\n",
       "    .dataframe tbody tr th {\n",
       "        vertical-align: top;\n",
       "    }\n",
       "\n",
       "    .dataframe thead th {\n",
       "        text-align: right;\n",
       "    }\n",
       "</style>\n",
       "<table border=\"1\" class=\"dataframe\">\n",
       "  <thead>\n",
       "    <tr style=\"text-align: right;\">\n",
       "      <th></th>\n",
       "      <th>text</th>\n",
       "      <th>accept</th>\n",
       "      <th>openai</th>\n",
       "      <th>tokens</th>\n",
       "      <th>meta</th>\n",
       "      <th>spans</th>\n",
       "      <th>_input_hash</th>\n",
       "      <th>_task_hash</th>\n",
       "    </tr>\n",
       "  </thead>\n",
       "  <tbody>\n",
       "    <tr>\n",
       "      <th>0</th>\n",
       "      <td>Develop an Enterprise Account Plan for strateg...</td>\n",
       "      <td>skills</td>\n",
       "      <td>{'prompt': 'The following are the definitions ...</td>\n",
       "      <td>[{'text': 'Develop', 'start': 0, 'end': 7, 'id...</td>\n",
       "      <td>{}</td>\n",
       "      <td>[{'label': 'hard_skill', 'start': 0, 'end': 7,...</td>\n",
       "      <td>815660824</td>\n",
       "      <td>1280380821</td>\n",
       "    </tr>\n",
       "    <tr>\n",
       "      <th>1</th>\n",
       "      <td>Manage the entire sales process from prospect ...</td>\n",
       "      <td>skills</td>\n",
       "      <td>{'prompt': 'The following are the definitions ...</td>\n",
       "      <td>[{'text': 'Manage', 'start': 0, 'end': 6, 'id'...</td>\n",
       "      <td>{}</td>\n",
       "      <td>[]</td>\n",
       "      <td>-1688214404</td>\n",
       "      <td>1228344610</td>\n",
       "    </tr>\n",
       "    <tr>\n",
       "      <th>2</th>\n",
       "      <td>Maintain Salesforce.com CRM and ensure a stron...</td>\n",
       "      <td>skills</td>\n",
       "      <td>{'prompt': 'The following are the definitions ...</td>\n",
       "      <td>[{'text': 'Maintain', 'start': 0, 'end': 8, 'i...</td>\n",
       "      <td>{}</td>\n",
       "      <td>[{'label': 'hard_skill', 'start': 0, 'end': 27...</td>\n",
       "      <td>1120410658</td>\n",
       "      <td>-901354282</td>\n",
       "    </tr>\n",
       "    <tr>\n",
       "      <th>3</th>\n",
       "      <td>5+ years of SaaS enterprise sales experience</td>\n",
       "      <td>skills</td>\n",
       "      <td>{'prompt': 'The following are the definitions ...</td>\n",
       "      <td>[{'text': '5', 'start': 0, 'end': 1, 'id': 0, ...</td>\n",
       "      <td>{}</td>\n",
       "      <td>[{'label': 'hard_skill', 'start': 12, 'end': 4...</td>\n",
       "      <td>-1878743098</td>\n",
       "      <td>1520159998</td>\n",
       "    </tr>\n",
       "    <tr>\n",
       "      <th>4</th>\n",
       "      <td>Expertise in managing multi-stakeholder sales ...</td>\n",
       "      <td>skills</td>\n",
       "      <td>{'prompt': 'The following are the definitions ...</td>\n",
       "      <td>[{'text': 'Expertise', 'start': 0, 'end': 9, '...</td>\n",
       "      <td>{}</td>\n",
       "      <td>[{'label': 'soft_skill', 'start': 0, 'end': 9,...</td>\n",
       "      <td>2074544853</td>\n",
       "      <td>1492035611</td>\n",
       "    </tr>\n",
       "  </tbody>\n",
       "</table>\n",
       "</div>"
      ],
      "text/plain": [
       "                                                text  accept  \\\n",
       "0  Develop an Enterprise Account Plan for strateg...  skills   \n",
       "1  Manage the entire sales process from prospect ...  skills   \n",
       "2  Maintain Salesforce.com CRM and ensure a stron...  skills   \n",
       "3       5+ years of SaaS enterprise sales experience  skills   \n",
       "4  Expertise in managing multi-stakeholder sales ...  skills   \n",
       "\n",
       "                                              openai  \\\n",
       "0  {'prompt': 'The following are the definitions ...   \n",
       "1  {'prompt': 'The following are the definitions ...   \n",
       "2  {'prompt': 'The following are the definitions ...   \n",
       "3  {'prompt': 'The following are the definitions ...   \n",
       "4  {'prompt': 'The following are the definitions ...   \n",
       "\n",
       "                                              tokens meta  \\\n",
       "0  [{'text': 'Develop', 'start': 0, 'end': 7, 'id...   {}   \n",
       "1  [{'text': 'Manage', 'start': 0, 'end': 6, 'id'...   {}   \n",
       "2  [{'text': 'Maintain', 'start': 0, 'end': 8, 'i...   {}   \n",
       "3  [{'text': '5', 'start': 0, 'end': 1, 'id': 0, ...   {}   \n",
       "4  [{'text': 'Expertise', 'start': 0, 'end': 9, '...   {}   \n",
       "\n",
       "                                               spans  _input_hash  _task_hash  \n",
       "0  [{'label': 'hard_skill', 'start': 0, 'end': 7,...    815660824  1280380821  \n",
       "1                                                 []  -1688214404  1228344610  \n",
       "2  [{'label': 'hard_skill', 'start': 0, 'end': 27...   1120410658  -901354282  \n",
       "3  [{'label': 'hard_skill', 'start': 12, 'end': 4...  -1878743098  1520159998  \n",
       "4  [{'label': 'soft_skill', 'start': 0, 'end': 9,...   2074544853  1492035611  "
      ]
     },
     "execution_count": 128,
     "metadata": {},
     "output_type": "execute_result"
    }
   ],
   "source": [
    "ner_df.head()"
   ]
  },
  {
   "cell_type": "markdown",
   "metadata": {},
   "source": [
    "Split 80/20"
   ]
  },
  {
   "cell_type": "code",
   "execution_count": 141,
   "metadata": {},
   "outputs": [
    {
     "name": "stdout",
     "output_type": "stream",
     "text": [
      "\u001b[38;5;2m✔ Created output directory\u001b[0m\n",
      "\u001b[38;5;4mℹ Using language 'en'\u001b[0m\n",
      "\u001b[1m\n",
      "============================== Generating data ==============================\u001b[0m\n",
      "Components: ner\n",
      "Merging training and evaluation data for 1 components\n",
      "  - [ner] Training: 2189 | Evaluation: 534 (20% split)\n",
      "Training: 2089 | Evaluation: 522\n",
      "Labels: ner (2)\n",
      "\u001b[38;5;2m✔ Saved 2089 training examples\u001b[0m\n",
      "data/annotations/train.spacy\n",
      "\u001b[38;5;2m✔ Saved 522 evaluation examples\u001b[0m\n",
      "data/annotations/dev.spacy\n",
      "\u001b[1m\n",
      "============================= Generating config =============================\u001b[0m\n",
      "\u001b[38;5;4mℹ Auto-generating config with spaCy\u001b[0m\n",
      "\u001b[38;5;2m✔ Generated training config\u001b[0m\n",
      "\u001b[1m\n",
      "======================== Generating cached label data ========================\u001b[0m\n",
      "\u001b[38;5;2m✔ Saving label data for component 'ner'\u001b[0m\n",
      "data/annotations/labels/ner.json\n",
      "\u001b[1m\n",
      "============================= Finalizing export =============================\u001b[0m\n",
      "\u001b[38;5;2m✔ Saved training config\u001b[0m\n",
      "data/annotations/config.cfg\n",
      "\n",
      "To use this data for training with spaCy, you can run:\n",
      "python -m spacy train data/annotations/config.cfg --paths.train data/annotations/train.spacy --paths.dev data/annotations/dev.spacy\n"
     ]
    }
   ],
   "source": [
    "!python3 -m prodigy data-to-spacy ./data/annotations/ --ner ner_preds -es 0.2"
   ]
  },
  {
   "cell_type": "markdown",
   "metadata": {},
   "source": [
    "Again we finetune using the obtained NER Labels in colab notebook:  \n",
    "https://colab.research.google.com/drive/13HwU4A-Ir5pnRPSrUxqSO2P7D87oJ6Nl#scrollTo=OjAX-Q7CMv8Z"
   ]
  },
  {
   "cell_type": "markdown",
   "metadata": {},
   "source": [
    "## Inference Pipeline"
   ]
  },
  {
   "cell_type": "markdown",
   "metadata": {},
   "source": [
    "### Sentence Classification"
   ]
  },
  {
   "cell_type": "code",
   "execution_count": 230,
   "metadata": {},
   "outputs": [],
   "source": [
    "# Load the trained SpaCy model\n",
    "model_path = \"/Users/tashi/Desktop/Fall/Thesis/src/nlp/models/sent_cls_model/model-last\"\n",
    "nlp = spacy.load(model_path)"
   ]
  },
  {
   "cell_type": "code",
   "execution_count": 240,
   "metadata": {},
   "outputs": [],
   "source": [
    "def sent_cls(text):\n",
    "    sents = text.split('\\n')\n",
    "    skill_sents = []\n",
    "    for sent in sents:\n",
    "        if len(sent) <= 0:\n",
    "            continue\n",
    "        doc = nlp(sent)\n",
    "        max_label = max(doc.cats, key=lambda label: doc.cats[label])\n",
    "        max_score = doc.cats[max_label]\n",
    "        if max_label == 'skills':\n",
    "            skill_sents.append(sent)\n",
    "        # Print the text, label, and its score\n",
    "        print(f\"Text: '{sent}'\\nPredicted category: {max_label} with score {max_score}\\n\")\n",
    "    return skill_sents\n"
   ]
  },
  {
   "cell_type": "markdown",
   "metadata": {},
   "source": [
    "### NER inference"
   ]
  },
  {
   "cell_type": "markdown",
   "metadata": {},
   "source": [
    "#### Initializing and post processing Steps"
   ]
  },
  {
   "cell_type": "code",
   "execution_count": 315,
   "metadata": {},
   "outputs": [],
   "source": [
    "# Load the model and tokenizer outside the function\n",
    "model_path = \"/Users/tashi/Desktop/Fall/Thesis/src/nlp/models/bert-ner-model\"\n",
    "model = AutoModelForTokenClassification.from_pretrained(model_path)\n",
    "tokenizer = AutoTokenizer.from_pretrained(model_path)\n",
    "model.eval()  # Set the model to evaluation mode\n",
    "\n",
    "# Define the NER tags\n",
    "tag_names = ['O', 'B-HardSkill', 'B-SoftSkill', 'I-SoftSkill', 'I-HardSkill']  # Adjust based on your model\n",
    "\n",
    "def perform_ner_inference(text, model, tokenizer, tag_names):\n",
    "    \"\"\"\n",
    "    Function to perform NER inference on a single piece of text.\n",
    "\n",
    "    Args:\n",
    "    text (str): The text for NER inference.\n",
    "    model: The loaded NER model.\n",
    "    tokenizer: The tokenizer for preprocessing text.\n",
    "    tag_names (list): List of NER tag names used in the model.\n",
    "\n",
    "    Returns:\n",
    "    list: List of tuples (word, tag) with NER tags for each word in the text.\n",
    "    \"\"\"\n",
    "    # Tokenize the text\n",
    "    inputs = tokenizer(text, return_tensors=\"pt\", is_split_into_words=False)\n",
    "\n",
    "    # Move model and inputs to the same device\n",
    "    device = torch.device(\"cuda\" if torch.cuda.is_available() else \"cpu\")\n",
    "    model = model.to(device)\n",
    "    inputs = {key: value.to(device) for key, value in inputs.items()}\n",
    "\n",
    "    # Inference\n",
    "    with torch.no_grad():\n",
    "        outputs = model(**inputs)\n",
    "\n",
    "    # Process logits and get predicted tags\n",
    "    logits = outputs.logits\n",
    "    predictions = torch.argmax(logits, dim=2)\n",
    "    predicted_tags = [tag_names[tag_id] for tag_id in predictions[0].cpu().numpy()]\n",
    "\n",
    "    # Pair tokens with their predicted tags\n",
    "    tokens = tokenizer.convert_ids_to_tokens(inputs[\"input_ids\"][0].cpu().numpy())\n",
    "    token_tag_pairs = list(zip(tokens, predicted_tags))\n",
    "\n",
    "    aligned_tags = []\n",
    "    current_word = \"\"\n",
    "    current_tag = None\n",
    "\n",
    "    for token, tag in zip(tokens, predicted_tags):\n",
    "        if token.startswith(\"##\"):\n",
    "            current_word += token[2:]  # Remove '##' and concatenate\n",
    "        elif current_word:\n",
    "            # Append the previous word and its tag\n",
    "            aligned_tags.append((current_word, current_tag))\n",
    "            current_word, current_tag = token, tag\n",
    "        else:\n",
    "            current_word, current_tag = token, tag\n",
    "\n",
    "        # Skip special tokens\n",
    "        if token in tokenizer.all_special_tokens:\n",
    "            continue\n",
    "\n",
    "    # Append the last word if it exists\n",
    "    if current_word:\n",
    "        aligned_tags.append((current_word, current_tag))\n",
    "\n",
    "    return aligned_tags\n"
   ]
  },
  {
   "cell_type": "markdown",
   "metadata": {},
   "source": [
    "Obtain raw NER results"
   ]
  },
  {
   "cell_type": "code",
   "execution_count": 316,
   "metadata": {},
   "outputs": [],
   "source": [
    "def get_raw_results(sents):\n",
    "    results = []\n",
    "    for sent in sents:\n",
    "        ner_results = perform_ner_inference(sent, model, tokenizer, tag_names)\n",
    "        results.append(ner_results)\n",
    "        print(f\"Text: {sent}\\nNER Results: {ner_results}\\n\")\n",
    "    return results"
   ]
  },
  {
   "cell_type": "markdown",
   "metadata": {},
   "source": [
    "Get the neccessary entities only i.e., remove unmarked entitites"
   ]
  },
  {
   "cell_type": "code",
   "execution_count": 317,
   "metadata": {},
   "outputs": [],
   "source": [
    "def get_entities(aligned_tags):\n",
    "    \"\"\"\n",
    "    Function to extract entities from a list of aligned tags.\n",
    "\n",
    "    Args:\n",
    "    aligned_tags (list): List of tuples (word, tag) with NER tags for each word in the text.\n",
    "\n",
    "    Returns:\n",
    "    list: List of tuples (entity, tag) with extracted entities.\n",
    "    \"\"\"\n",
    "    final_entities = []\n",
    "    current_entity = []\n",
    "    current_entity_tag = None\n",
    "\n",
    "    for tups in aligned_tags:\n",
    "        for word, tag in tups:\n",
    "            if tag.startswith(\"B-\"):\n",
    "                if current_entity:\n",
    "                    # Combine the words in the current entity and add to final list\n",
    "                    entity = \" \".join(current_entity)\n",
    "                    final_entities.append((entity, current_entity_tag))\n",
    "                    current_entity = [word]\n",
    "                    current_entity_tag = tag\n",
    "                else:\n",
    "                    current_entity.append(word)\n",
    "                    current_entity_tag = tag\n",
    "            elif tag.startswith(\"I-\") and current_entity_tag is not None:\n",
    "                # Continue the current entity\n",
    "                current_entity.append(word)\n",
    "            else:\n",
    "                if current_entity:\n",
    "                    # Finish the current entity and start a new one\n",
    "                    entity = \" \".join(current_entity)\n",
    "                    final_entities.append((entity, current_entity_tag))\n",
    "                    current_entity = []\n",
    "                    current_entity_tag = None\n",
    "\n",
    "        # Append the last entity if it exists\n",
    "        if current_entity:\n",
    "            entity = \" \".join(current_entity)\n",
    "            final_entities.append((entity, current_entity_tag))\n",
    "\n",
    "    return final_entities"
   ]
  },
  {
   "cell_type": "markdown",
   "metadata": {},
   "source": [
    "Categorize by hard and soft skillls"
   ]
  },
  {
   "cell_type": "code",
   "execution_count": 318,
   "metadata": {},
   "outputs": [],
   "source": [
    "def categorize_skills(entities_list):\n",
    "    hard_skills = []\n",
    "    soft_skills = []\n",
    "    for entity, tag in entities_list:\n",
    "        if 'HardSkill' in tag:\n",
    "            hard_skills.append(entity)\n",
    "        elif 'SoftSkill' in tag:\n",
    "            soft_skills.append(entity)\n",
    "\n",
    "    return hard_skills, soft_skills\n"
   ]
  },
  {
   "cell_type": "markdown",
   "metadata": {},
   "source": [
    "## Testing inference on an example"
   ]
  },
  {
   "cell_type": "markdown",
   "metadata": {},
   "source": [
    "Copy & paste a job description in the following:"
   ]
  },
  {
   "cell_type": "code",
   "execution_count": 323,
   "metadata": {},
   "outputs": [],
   "source": [
    "text = \"\"\"Responsibilities include:\n",
    "Designing and developing client-side features that solve market problems within project schedule deadlines.\n",
    "\n",
    "Familiarity of emerging technologies in web-based applications\n",
    "\n",
    "Ensuring high quality of the product through comprehensive unit, component, and integration tests\n",
    "\n",
    "Collaborating with quality assurance engineers to enable thorough end to end system testing.\n",
    "Working with senior engineers and other stakeholders to clarify requirements and review software design proposals.\n",
    "\n",
    "Contributing to organization culture, disciplines, process & tools\n",
    "\n",
    "\n",
    "QUALIFICATIONS:\n",
    "\n",
    "A completed bachelor’s degree in Computer Science, a related technical field, or equivalent practical experience.\n",
    "Relevant project or internship experience in software development, particularly in web-based UI applications.\n",
    "Working knowledge of JavaScript, HTML, CSS, and Java.\n",
    "Experience with REST APIs and building UI applications using them.\n",
    "A self-starter attitude with the initiative to get things done.\n",
    "\n",
    "\n",
    "You'll excite us if you have:\n",
    "\n",
    "\n",
    "Familiarity with Angular 2+, NodeJS, and ngrx state management.\n",
    "Familiarity with Java and Spring framework.\n",
    "Willingness to learn and adapt to new technologies.\n",
    "Experience with browser-based automation frameworks such as Cypress or Selenium is a plus.\n",
    "Familiarity with Linux.\n",
    "Excellent communication and interpersonal skills.\n",
    "\n",
    "Our salary ranges consider various factors, including but not limited to benchmarking by independent third-party consultants, skills, years of experience, training, education, geography, and other business needs. \n",
    "\"\"\""
   ]
  },
  {
   "cell_type": "markdown",
   "metadata": {},
   "source": [
    "**Classify each sentences and keep only the sentences marked as \"skills\"**"
   ]
  },
  {
   "cell_type": "code",
   "execution_count": 329,
   "metadata": {},
   "outputs": [
    {
     "name": "stdout",
     "output_type": "stream",
     "text": [
      "Text: 'Responsibilities include:'\n",
      "Predicted category: miscellaneous with score 0.6285697817802429\n",
      "\n",
      "Text: 'Designing and developing client-side features that solve market problems within project schedule deadlines.'\n",
      "Predicted category: miscellaneous with score 0.8096529245376587\n",
      "\n",
      "Text: 'Familiarity of emerging technologies in web-based applications'\n",
      "Predicted category: skills with score 0.6386134624481201\n",
      "\n",
      "Text: 'Ensuring high quality of the product through comprehensive unit, component, and integration tests'\n",
      "Predicted category: skills with score 0.8064651489257812\n",
      "\n",
      "Text: 'Collaborating with quality assurance engineers to enable thorough end to end system testing.'\n",
      "Predicted category: miscellaneous with score 0.9343215823173523\n",
      "\n",
      "Text: 'Working with senior engineers and other stakeholders to clarify requirements and review software design proposals.'\n",
      "Predicted category: miscellaneous with score 0.8439223170280457\n",
      "\n",
      "Text: 'Contributing to organization culture, disciplines, process & tools'\n",
      "Predicted category: miscellaneous with score 0.8728827238082886\n",
      "\n",
      "Text: 'QUALIFICATIONS:'\n",
      "Predicted category: miscellaneous with score 0.43348780274391174\n",
      "\n",
      "Text: 'A completed bachelor’s degree in Computer Science, a related technical field, or equivalent practical experience.'\n",
      "Predicted category: miscellaneous with score 0.8389782309532166\n",
      "\n",
      "Text: 'Relevant project or internship experience in software development, particularly in web-based UI applications.'\n",
      "Predicted category: skills with score 0.7839064598083496\n",
      "\n",
      "Text: 'Working knowledge of JavaScript, HTML, CSS, and Java.'\n",
      "Predicted category: skills with score 0.6263574957847595\n",
      "\n",
      "Text: 'Experience with REST APIs and building UI applications using them.'\n",
      "Predicted category: skills with score 0.9012981653213501\n",
      "\n",
      "Text: 'A self-starter attitude with the initiative to get things done.'\n",
      "Predicted category: miscellaneous with score 0.5146406888961792\n",
      "\n",
      "Text: 'You'll excite us if you have:'\n",
      "Predicted category: miscellaneous with score 0.5430894494056702\n",
      "\n",
      "Text: 'Familiarity with Angular 2+, NodeJS, and ngrx state management.'\n",
      "Predicted category: skills with score 0.8384252190589905\n",
      "\n",
      "Text: 'Familiarity with Java and Spring framework.'\n",
      "Predicted category: skills with score 0.9197674989700317\n",
      "\n",
      "Text: 'Willingness to learn and adapt to new technologies.'\n",
      "Predicted category: miscellaneous with score 0.8193876147270203\n",
      "\n",
      "Text: 'Experience with browser-based automation frameworks such as Cypress or Selenium is a plus.'\n",
      "Predicted category: skills with score 0.8905688524246216\n",
      "\n",
      "Text: 'Familiarity with Linux.'\n",
      "Predicted category: skills with score 0.8072988986968994\n",
      "\n",
      "Text: 'Excellent communication and interpersonal skills.'\n",
      "Predicted category: skills with score 0.8482744693756104\n",
      "\n",
      "Text: 'Our salary ranges consider various factors, including but not limited to benchmarking by independent third-party consultants, skills, years of experience, training, education, geography, and other business needs. '\n",
      "Predicted category: miscellaneous with score 0.9831265807151794\n",
      "\n"
     ]
    }
   ],
   "source": [
    "sents = sent_cls(text)"
   ]
  },
  {
   "cell_type": "code",
   "execution_count": 330,
   "metadata": {},
   "outputs": [
    {
     "name": "stdout",
     "output_type": "stream",
     "text": [
      "Text: Familiarity of emerging technologies in web-based applications\n",
      "NER Results: [('[CLS]', 'O'), ('Familiarity', 'B-HardSkill'), ('of', 'I-HardSkill'), ('emerging', 'I-HardSkill'), ('technologies', 'I-HardSkill'), ('in', 'O'), ('web', 'B-HardSkill'), ('-', 'I-HardSkill'), ('based', 'I-HardSkill'), ('applications', 'I-HardSkill'), ('[SEP]', 'B-HardSkill')]\n",
      "\n",
      "Text: Ensuring high quality of the product through comprehensive unit, component, and integration tests\n",
      "NER Results: [('[CLS]', 'O'), ('Ensuring', 'O'), ('high', 'O'), ('quality', 'O'), ('of', 'O'), ('the', 'O'), ('product', 'O'), ('through', 'O'), ('comprehensive', 'B-HardSkill'), ('unit', 'I-HardSkill'), (',', 'O'), ('component', 'B-HardSkill'), (',', 'O'), ('and', 'O'), ('integration', 'B-HardSkill'), ('tests', 'I-HardSkill'), ('[SEP]', 'O')]\n",
      "\n",
      "Text: Relevant project or internship experience in software development, particularly in web-based UI applications.\n",
      "NER Results: [('[CLS]', 'O'), ('Relevant', 'O'), ('project', 'O'), ('or', 'O'), ('internship', 'O'), ('experience', 'O'), ('in', 'O'), ('software', 'B-HardSkill'), ('development', 'I-HardSkill'), (',', 'O'), ('particularly', 'O'), ('in', 'O'), ('web', 'B-HardSkill'), ('-', 'I-HardSkill'), ('based', 'I-HardSkill'), ('UI', 'I-HardSkill'), ('applications', 'I-HardSkill'), ('.', 'O'), ('[SEP]', 'O')]\n",
      "\n",
      "Text: Working knowledge of JavaScript, HTML, CSS, and Java.\n",
      "NER Results: [('[CLS]', 'O'), ('Working', 'O'), ('knowledge', 'O'), ('of', 'O'), ('JavaScript', 'B-HardSkill'), (',', 'O'), ('HTML', 'B-HardSkill'), (',', 'O'), ('CSS', 'B-HardSkill'), (',', 'O'), ('and', 'O'), ('Java', 'B-HardSkill'), ('.', 'O'), ('[SEP]', 'O')]\n",
      "\n",
      "Text: Experience with REST APIs and building UI applications using them.\n",
      "NER Results: [('[CLS]', 'O'), ('Experience', 'O'), ('with', 'I-HardSkill'), ('REST', 'I-HardSkill'), ('APIs', 'I-HardSkill'), ('and', 'O'), ('building', 'B-HardSkill'), ('UI', 'I-HardSkill'), ('applications', 'I-HardSkill'), ('using', 'O'), ('them', 'O'), ('.', 'O'), ('[SEP]', 'O')]\n",
      "\n",
      "Text: Familiarity with Angular 2+, NodeJS, and ngrx state management.\n",
      "NER Results: [('[CLS]', 'O'), ('Familiarity', 'B-HardSkill'), ('with', 'I-HardSkill'), ('Angular', 'B-HardSkill'), ('2', 'I-HardSkill'), ('+', 'I-HardSkill'), (',', 'O'), ('NodeJS', 'B-HardSkill'), (',', 'O'), ('and', 'O'), ('ngrx', 'B-HardSkill'), ('state', 'I-HardSkill'), ('management', 'I-HardSkill'), ('.', 'O'), ('[SEP]', 'O')]\n",
      "\n",
      "Text: Familiarity with Java and Spring framework.\n",
      "NER Results: [('[CLS]', 'O'), ('Familiarity', 'O'), ('with', 'O'), ('Java', 'B-HardSkill'), ('and', 'O'), ('Spring', 'B-HardSkill'), ('framework', 'I-HardSkill'), ('.', 'O'), ('[SEP]', 'O')]\n",
      "\n",
      "Text: Experience with browser-based automation frameworks such as Cypress or Selenium is a plus.\n",
      "NER Results: [('[CLS]', 'O'), ('Experience', 'O'), ('with', 'O'), ('browser', 'B-HardSkill'), ('-', 'I-HardSkill'), ('based', 'I-HardSkill'), ('automation', 'I-HardSkill'), ('frameworks', 'I-HardSkill'), ('such', 'O'), ('as', 'O'), ('Cypress', 'B-HardSkill'), ('or', 'O'), ('Selenium', 'B-HardSkill'), ('is', 'O'), ('a', 'O'), ('plus', 'O'), ('.', 'O'), ('[SEP]', 'O')]\n",
      "\n",
      "Text: Familiarity with Linux.\n",
      "NER Results: [('[CLS]', 'O'), ('Familiarity', 'O'), ('with', 'O'), ('Linux', 'B-HardSkill'), ('.', 'O'), ('[SEP]', 'O')]\n",
      "\n",
      "Text: Excellent communication and interpersonal skills.\n",
      "NER Results: [('[CLS]', 'O'), ('Excellent', 'O'), ('communication', 'B-SoftSkill'), ('and', 'O'), ('interpersonal', 'B-SoftSkill'), ('skills', 'I-SoftSkill'), ('.', 'O'), ('[SEP]', 'O')]\n",
      "\n"
     ]
    }
   ],
   "source": [
    "aligned_ents = get_raw_results(sents)"
   ]
  },
  {
   "cell_type": "code",
   "execution_count": 326,
   "metadata": {},
   "outputs": [],
   "source": [
    "ents = get_entities(aligned_ents)"
   ]
  },
  {
   "cell_type": "code",
   "execution_count": 327,
   "metadata": {},
   "outputs": [],
   "source": [
    "h_skill, s_skill = categorize_skills(ents)"
   ]
  },
  {
   "cell_type": "markdown",
   "metadata": {},
   "source": [
    "**Final Result**"
   ]
  },
  {
   "cell_type": "code",
   "execution_count": 328,
   "metadata": {},
   "outputs": [
    {
     "name": "stdout",
     "output_type": "stream",
     "text": [
      "Hard Skills: ['Familiarity of emerging technologies', 'web - based applications', '[SEP]', '[SEP]', 'comprehensive unit', 'component', 'integration tests', 'software development', 'web - based UI applications', 'JavaScript', 'HTML', 'CSS', 'Java', 'building UI applications', 'Familiarity with', 'Angular 2 +', 'NodeJS', 'ngrx state management', 'Java', 'Spring framework', 'browser - based automation frameworks', 'Cypress', 'Selenium', 'Linux']\n",
      "\n",
      "Soft Skills: ['communication', 'interpersonal skills']\n"
     ]
    }
   ],
   "source": [
    "print(f\"Hard Skills: {h_skill}\\n\\nSoft Skills: {s_skill}\")"
   ]
  }
 ],
 "metadata": {
  "kernelspec": {
   "display_name": "Python 3",
   "language": "python",
   "name": "python3"
  },
  "language_info": {
   "codemirror_mode": {
    "name": "ipython",
    "version": 3
   },
   "file_extension": ".py",
   "mimetype": "text/x-python",
   "name": "python",
   "nbconvert_exporter": "python",
   "pygments_lexer": "ipython3",
   "version": "3.11.5"
  }
 },
 "nbformat": 4,
 "nbformat_minor": 2
}
